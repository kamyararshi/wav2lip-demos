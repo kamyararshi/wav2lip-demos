{
 "cells": [
  {
   "cell_type": "code",
   "execution_count": 1,
   "metadata": {},
   "outputs": [],
   "source": [
    "import pytube\n",
    "from pytube import YouTube\n",
    "import os\n",
    "\n",
    "from moviepy.video.io.VideoFileClip import VideoFileClip\n",
    "from moviepy.audio.io.AudioFileClip import AudioFileClip"
   ]
  },
  {
   "cell_type": "code",
   "execution_count": 2,
   "metadata": {},
   "outputs": [],
   "source": [
    "def download_video(url, video_id, person, dl_path, ext='.mp4'):\n",
    "    \"\"\"\n",
    "    Downloads the videos and cut the segments\n",
    "    \"\"\"\n",
    "    file_extension='mp4' if ext==\".mp4\" else None\n",
    "    filename = f\"{person}-{video_id}\"\n",
    "    \n",
    "    yt = YouTube(url+video_id)\n",
    "    try:\n",
    "        #video = yt.streams.filter(progressive=True, file_extension=file_extension).order_by('resolution').desc().first()\n",
    "        video = yt.streams.filter(progressive=True, file_extension=file_extension).get_highest_resolution()\n",
    "        video.download(filename=filename+ext, output_path=dl_path)\n",
    "    except pytube.exceptions.RegexMatchError:\n",
    "        print(\"RegexMatchError: Could not find match for multiple. Skipping this video.\")\n"
   ]
  },
  {
   "cell_type": "code",
   "execution_count": 5,
   "metadata": {},
   "outputs": [],
   "source": [
    "download_video(\"https://www.youtube.com/watch?v=\", 'OuhBF74ZD8E', 'trump', 'Trump/')"
   ]
  },
  {
   "cell_type": "code",
   "execution_count": 6,
   "metadata": {},
   "outputs": [
    {
     "data": {
      "text/plain": [
       "91"
      ]
     },
     "execution_count": 6,
     "metadata": {},
     "output_type": "execute_result"
    }
   ],
   "source": [
    "# Trump\n",
    "14+11+8+17+10+6+13+12"
   ]
  },
  {
   "cell_type": "code",
   "execution_count": 12,
   "metadata": {},
   "outputs": [],
   "source": [
    "def extract_audio(video_path, output_wav_path):\n",
    "    video_clip = VideoFileClip(video_path)\n",
    "    audio_clip = video_clip.audio\n",
    "\n",
    "    audio_clip.write_audiofile(output_wav_path)\n",
    "\n",
    "    video_clip.close()\n",
    "    audio_clip.close()"
   ]
  },
  {
   "cell_type": "code",
   "execution_count": 13,
   "metadata": {},
   "outputs": [
    {
     "name": "stdout",
     "output_type": "stream",
     "text": [
      "MoviePy - Writing audio in Eisenhower/kamyar-eisenhower.wav\n"
     ]
    },
    {
     "name": "stderr",
     "output_type": "stream",
     "text": [
      "                                                                      \r"
     ]
    },
    {
     "name": "stdout",
     "output_type": "stream",
     "text": [
      "MoviePy - Done.\n"
     ]
    }
   ],
   "source": [
    "extract_audio('Eisenhower/kamyar-eisenhower.mp4', 'Eisenhower/kamyar-eisenhower.wav')"
   ]
  },
  {
   "cell_type": "code",
   "execution_count": 11,
   "metadata": {},
   "outputs": [],
   "source": [
    "\n",
    "\n",
    "def trim_video_and_audio(input_video_path, input_audio_path, output_folder):\n",
    "    video_clip = VideoFileClip(input_video_path)\n",
    "    audio_clip = AudioFileClip(input_audio_path)\n",
    "\n",
    "    segment_length = 10  # in seconds\n",
    "    total_duration = min(video_clip.duration, audio_clip.duration)\n",
    "    num_segments = int(total_duration // segment_length)\n",
    "\n",
    "    os.makedirs(output_folder, exist_ok=True)\n",
    "\n",
    "    for i in range(num_segments):\n",
    "        start_time = i * segment_length\n",
    "        end_time = (i + 1) * segment_length\n",
    "        output_video_path = os.path.join(output_folder, f\"segment_{i + 1}.mp4\")\n",
    "        output_audio_path = os.path.join(output_folder, f\"segment_{i + 1}.wav\")\n",
    "\n",
    "        video_segment = video_clip.without_audio().subclip(start_time, end_time)\n",
    "        audio_segment = audio_clip.subclip(start_time, end_time)\n",
    "\n",
    "        video_segment.write_videofile(output_video_path, codec=\"libx264\")\n",
    "        audio_segment.write_audiofile(output_audio_path)\n",
    "\n",
    "    video_clip.close()\n",
    "    audio_clip.close()\n",
    "\n",
    "\n"
   ]
  },
  {
   "cell_type": "code",
   "execution_count": null,
   "metadata": {},
   "outputs": [],
   "source": [
    "input_video_path = \"Eisenhower/eisenhower-K_5Lgf5GjIQ.mp4\"  # Replace with the path to your input video\n",
    "input_audio_path = \"Eisenhower/kamyar-eisenhower.wav\"  # Replace with the path to your input audio\n",
    "output_folder = \"Eisenhower/segments/\"  # Folder where output segments will be saved\n",
    "\n",
    "trim_video_and_audio(input_video_path, input_audio_path, output_folder)"
   ]
  },
  {
   "cell_type": "markdown",
   "metadata": {},
   "source": [
    "# Extract a section of video"
   ]
  },
  {
   "cell_type": "code",
   "execution_count": 5,
   "metadata": {},
   "outputs": [],
   "source": [
    "def extract_section_video(input_video_path, start, end, output_folder):\n",
    "    video_clip = VideoFileClip(input_video_path)\n",
    "\n",
    "    os.makedirs(output_folder, exist_ok=True)\n",
    "\n",
    "    output_video_path = os.path.join(output_folder, f\"segment_{start}_to_{end}.mp4\")\n",
    "\n",
    "    video_segment = video_clip.without_audio().subclip(start, end)\n",
    "\n",
    "    video_segment.write_videofile(output_video_path, codec=\"libx264\")\n",
    "\n",
    "    video_clip.close()"
   ]
  },
  {
   "cell_type": "code",
   "execution_count": 12,
   "metadata": {},
   "outputs": [
    {
     "name": "stdout",
     "output_type": "stream",
     "text": [
      "Moviepy - Building video Kennedy/segment_708_to_827.mp4.\n",
      "Moviepy - Writing video Kennedy/segment_708_to_827.mp4\n",
      "\n"
     ]
    },
    {
     "name": "stderr",
     "output_type": "stream",
     "text": [
      "                                                                  \r"
     ]
    },
    {
     "name": "stdout",
     "output_type": "stream",
     "text": [
      "Moviepy - Done !\n",
      "Moviepy - video ready Kennedy/segment_708_to_827.mp4\n"
     ]
    }
   ],
   "source": [
    "input_video_path = \"Kennedy/kennedy-58O2De-iPOk.mp4\"  # Replace with the path to your input video\n",
    "output_folder = \"Kennedy/\"  # Folder where output segments will be saved\n",
    "\n",
    "extract_section_video(input_video_path, 11*60+48,  13*60+47,output_folder)"
   ]
  },
  {
   "cell_type": "markdown",
   "metadata": {},
   "source": [
    "# Sync audio files and a longer video that should be segmentized"
   ]
  },
  {
   "cell_type": "code",
   "execution_count": 7,
   "metadata": {},
   "outputs": [],
   "source": [
    "import numpy as np\n",
    "import os\n",
    "import pytube\n",
    "from pytube import YouTube\n",
    "import os\n",
    "\n",
    "from moviepy.video.io.VideoFileClip import VideoFileClip\n",
    "from moviepy.audio.io.AudioFileClip import AudioFileClip\n",
    "\n",
    "def sync_video_audio(video_path, audio_folder, output_folder):\n",
    "    video_clip = VideoFileClip(video_path)\n",
    "    audio_paths = sorted(os.listdir(audio_folder))\n",
    "    audio_lens = [AudioFileClip(os.path.join(audio_folder, audio_path)).duration for audio_path in audio_paths]\n",
    "    total_audio_duration = sum(audio_lens)\n",
    "\n",
    "    if total_audio_duration > video_clip.duration:\n",
    "        raise ValueError(f\"Total Audio length is {sum(audio_lens)}, which is larger than the input video with length of {video_clip.duration}\")\n",
    "        # # Calculate the factor by which to extend the video duration\n",
    "        # duration_factor = total_audio_duration / video_clip.duration\n",
    "\n",
    "        # # Duplicate video frames to match audio duration\n",
    "        # print(video_clip.duration * np.linspace(0, 1, int(duration_factor)))\n",
    "        # duplicated_frames = [video_clip.get_frame(int(t)) for t in video_clip.duration * np.linspace(0, 1, int(duration_factor))]\n",
    "\n",
    "        # # Create a video clip from duplicated frames\n",
    "        # extended_video_clip = VideoFileClip(None, fps_source=video_clip.fps)\n",
    "        # extended_video_clip = extended_video_clip.set_make_frame(lambda t: duplicated_frames[int(t * video_clip.fps)])\n",
    "\n",
    "\n",
    "    \n",
    "    # Create output folder if not existing\n",
    "    os.makedirs(output_folder, exist_ok=True)\n",
    "    # Remove prec output files\n",
    "    filelist = [ f for f in os.listdir(output_folder) if f.endswith(\".mp4\") ]\n",
    "    for f in filelist:\n",
    "        os.remove(os.path.join(output_folder, f))\n",
    "    elapsed_video = 0\n",
    "\n",
    "    for i, len in enumerate(audio_lens):\n",
    "        audio_clip = AudioFileClip(os.path.join(audio_folder, audio_paths[i]))\n",
    "\n",
    "        \n",
    "        start_time = elapsed_video\n",
    "        end_time = start_time + len\n",
    "        output_video_path = os.path.join(output_folder, f\"segment_{os.path.splitext(audio_paths[i])[0]}.mp4\")\n",
    "\n",
    "        video_segment = video_clip.without_audio().subclip(start_time, end_time)\n",
    "\n",
    "        video_segment.write_videofile(output_video_path, codec=\"libx264\")\n",
    "        elapsed_video += len\n",
    "\n",
    "    video_clip.close()\n",
    "    # extended_video_clip.close()\n",
    "    audio_clip.close()"
   ]
  },
  {
   "cell_type": "code",
   "execution_count": 14,
   "metadata": {},
   "outputs": [
    {
     "name": "stdout",
     "output_type": "stream",
     "text": [
      "Moviepy - Building video ./Demo/Trump/segments_cloned/segment_1.mp4.\n",
      "Moviepy - Writing video ./Demo/Trump/segments_cloned/segment_1.mp4\n",
      "\n"
     ]
    },
    {
     "name": "stderr",
     "output_type": "stream",
     "text": [
      "                                                               \r"
     ]
    },
    {
     "name": "stdout",
     "output_type": "stream",
     "text": [
      "Moviepy - Done !\n",
      "Moviepy - video ready ./Demo/Trump/segments_cloned/segment_1.mp4\n",
      "Moviepy - Building video ./Demo/Trump/segments_cloned/segment_2.mp4.\n",
      "Moviepy - Writing video ./Demo/Trump/segments_cloned/segment_2.mp4\n",
      "\n"
     ]
    },
    {
     "name": "stderr",
     "output_type": "stream",
     "text": [
      "                                                               \r"
     ]
    },
    {
     "name": "stdout",
     "output_type": "stream",
     "text": [
      "Moviepy - Done !\n",
      "Moviepy - video ready ./Demo/Trump/segments_cloned/segment_2.mp4\n",
      "Moviepy - Building video ./Demo/Trump/segments_cloned/segment_3.mp4.\n",
      "Moviepy - Writing video ./Demo/Trump/segments_cloned/segment_3.mp4\n",
      "\n"
     ]
    },
    {
     "name": "stderr",
     "output_type": "stream",
     "text": [
      "                                                               \r"
     ]
    },
    {
     "name": "stdout",
     "output_type": "stream",
     "text": [
      "Moviepy - Done !\n",
      "Moviepy - video ready ./Demo/Trump/segments_cloned/segment_3.mp4\n",
      "Moviepy - Building video ./Demo/Trump/segments_cloned/segment_4.mp4.\n",
      "Moviepy - Writing video ./Demo/Trump/segments_cloned/segment_4.mp4\n",
      "\n"
     ]
    },
    {
     "name": "stderr",
     "output_type": "stream",
     "text": [
      "                                                               \r"
     ]
    },
    {
     "name": "stdout",
     "output_type": "stream",
     "text": [
      "Moviepy - Done !\n",
      "Moviepy - video ready ./Demo/Trump/segments_cloned/segment_4.mp4\n",
      "Moviepy - Building video ./Demo/Trump/segments_cloned/segment_5.mp4.\n",
      "Moviepy - Writing video ./Demo/Trump/segments_cloned/segment_5.mp4\n",
      "\n"
     ]
    },
    {
     "name": "stderr",
     "output_type": "stream",
     "text": [
      "                                                               \r"
     ]
    },
    {
     "name": "stdout",
     "output_type": "stream",
     "text": [
      "Moviepy - Done !\n",
      "Moviepy - video ready ./Demo/Trump/segments_cloned/segment_5.mp4\n",
      "Moviepy - Building video ./Demo/Trump/segments_cloned/segment_6.mp4.\n",
      "Moviepy - Writing video ./Demo/Trump/segments_cloned/segment_6.mp4\n",
      "\n"
     ]
    },
    {
     "name": "stderr",
     "output_type": "stream",
     "text": [
      "                                                               \r"
     ]
    },
    {
     "name": "stdout",
     "output_type": "stream",
     "text": [
      "Moviepy - Done !\n",
      "Moviepy - video ready ./Demo/Trump/segments_cloned/segment_6.mp4\n",
      "Moviepy - Building video ./Demo/Trump/segments_cloned/segment_7.mp4.\n",
      "Moviepy - Writing video ./Demo/Trump/segments_cloned/segment_7.mp4\n",
      "\n"
     ]
    },
    {
     "name": "stderr",
     "output_type": "stream",
     "text": [
      "                                                               \r"
     ]
    },
    {
     "name": "stdout",
     "output_type": "stream",
     "text": [
      "Moviepy - Done !\n",
      "Moviepy - video ready ./Demo/Trump/segments_cloned/segment_7.mp4\n",
      "Moviepy - Building video ./Demo/Trump/segments_cloned/segment_8.mp4.\n",
      "Moviepy - Writing video ./Demo/Trump/segments_cloned/segment_8.mp4\n",
      "\n"
     ]
    },
    {
     "name": "stderr",
     "output_type": "stream",
     "text": [
      "                                                               \r"
     ]
    },
    {
     "name": "stdout",
     "output_type": "stream",
     "text": [
      "Moviepy - Done !\n",
      "Moviepy - video ready ./Demo/Trump/segments_cloned/segment_8.mp4\n"
     ]
    }
   ],
   "source": [
    "video_path = \"./Demo/Trump/video_orig/trump-highres.mp4\"\n",
    "audio_folder = \"./Demo/Trump/audio_cloned/\"\n",
    "output_folder = \"./Demo/Trump/segments_cloned/\"\n",
    "\n",
    "sync_video_audio(video_path, audio_folder, output_folder)"
   ]
  },
  {
   "cell_type": "markdown",
   "metadata": {},
   "source": [
    "# Concatenate multiple videos"
   ]
  },
  {
   "cell_type": "code",
   "execution_count": 39,
   "metadata": {},
   "outputs": [],
   "source": [
    "from moviepy.editor import VideoFileClip, concatenate_videoclips\n",
    "import os\n",
    "\n",
    "def concatenate_videos_in_folder(folder_path, output_path):\n",
    "    video_files = []\n",
    "    \n",
    "    # Get a list of video files in the folder\n",
    "    for file in sorted(os.listdir(folder_path)):\n",
    "        if file.endswith(\".mp4\"):\n",
    "            video_files.append(os.path.join(folder_path, file))\n",
    "    \n",
    "    if not video_files:\n",
    "        print(\"No video files found in the folder.\")\n",
    "        return\n",
    "    \n",
    "    # Load video clips\n",
    "    video_clips = [VideoFileClip(file) for file in video_files]\n",
    "    \n",
    "    # Calculate total duration of each video clip\n",
    "    durations = [clip.duration for clip in video_clips]\n",
    "    \n",
    "    # Concatenate video clips based on their duration\n",
    "    final_clip = concatenate_videoclips(video_clips, method=\"compose\")\n",
    "    \n",
    "    # Write the concatenated video to the output path\n",
    "    final_clip.write_videofile(output_path, codec=\"libx264\")"
   ]
  },
  {
   "cell_type": "code",
   "execution_count": 40,
   "metadata": {},
   "outputs": [
    {
     "name": "stderr",
     "output_type": "stream",
     "text": [
      "chunk:   0%|          | 1/2573 [01:44<74:18:54, 104.02s/it, now=None]"
     ]
    },
    {
     "name": "stdout",
     "output_type": "stream",
     "text": [
      "Moviepy - Building video output_stitched_kennedy.mp4.\n",
      "MoviePy - Writing audio in output_stitched_kennedyTEMP_MPY_wvf_snd.mp3\n"
     ]
    },
    {
     "name": "stderr",
     "output_type": "stream",
     "text": [
      "chunk:   0%|          | 1/2573 [01:44<74:57:33, 104.92s/it, now=None]"
     ]
    },
    {
     "name": "stdout",
     "output_type": "stream",
     "text": [
      "MoviePy - Done.\n",
      "Moviepy - Writing video output_stitched_kennedy.mp4\n",
      "\n"
     ]
    },
    {
     "name": "stderr",
     "output_type": "stream",
     "text": [
      "chunk:   0%|          | 1/2573 [01:48<77:11:06, 108.04s/it, now=None]"
     ]
    },
    {
     "name": "stdout",
     "output_type": "stream",
     "text": [
      "Moviepy - Done !\n",
      "Moviepy - video ready output_stitched_kennedy.mp4\n"
     ]
    }
   ],
   "source": [
    "input_folder = \"results/\"  # Replace with the path to the folder with videos\n",
    "output_video = \"output_stitched_kennedy.mp4\"   # Replace with the desired output video path\n",
    "\n",
    "concatenate_videos_in_folder(input_folder, output_video)\n"
   ]
  },
  {
   "cell_type": "code",
   "execution_count": null,
   "metadata": {},
   "outputs": [],
   "source": []
  }
 ],
 "metadata": {
  "kernelspec": {
   "display_name": "vcdemo",
   "language": "python",
   "name": "python3"
  },
  "language_info": {
   "codemirror_mode": {
    "name": "ipython",
    "version": 3
   },
   "file_extension": ".py",
   "mimetype": "text/x-python",
   "name": "python",
   "nbconvert_exporter": "python",
   "pygments_lexer": "ipython3",
   "version": "3.10.12"
  },
  "orig_nbformat": 4
 },
 "nbformat": 4,
 "nbformat_minor": 2
}
